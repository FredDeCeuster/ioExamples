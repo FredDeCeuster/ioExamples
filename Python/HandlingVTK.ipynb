{
 "cells": [
  {
   "cell_type": "markdown",
   "metadata": {},
   "source": [
    "# VTK file handling (in Python)"
   ]
  },
  {
   "cell_type": "code",
   "execution_count": 1,
   "metadata": {
    "collapsed": false,
    "scrolled": true
   },
   "outputs": [],
   "source": [
    "import numpy as np   # NumPy\n",
    "import vtk           # VTK module\n",
    "\n",
    "from vtk.util.numpy_support import vtk_to_numpy   # VTK - NumPy interfacing"
   ]
  },
  {
   "cell_type": "markdown",
   "metadata": {},
   "source": [
    "### Reading`.vtk` (legacy) files"
   ]
  },
  {
   "cell_type": "code",
   "execution_count": 13,
   "metadata": {
    "collapsed": false
   },
   "outputs": [
    {
     "name": "stdout",
     "output_type": "stream",
     "text": [
      "1500\n",
      "H2_density\n",
      "[  5.77449296e+11   9.44097133e+11   4.18674995e+09 ...,   1.00000000e-30\n",
      "   1.00000000e-30   1.00000000e-30]\n",
      "velocity\n",
      "[[ 0.38007581 -0.2097981  -0.90084797]\n",
      " [ 0.27525321  0.96136838 -0.00255878]\n",
      " [ 0.73454827  0.66813523  0.1184657 ]\n",
      " ..., \n",
      " [ 0.          0.          0.        ]\n",
      " [ 0.          0.          0.        ]\n",
      " [ 0.          0.          0.        ]]\n",
      "(6147920101376.0, -3393590919168.0, -14571669553152.0)\n"
     ]
    }
   ],
   "source": [
    "fileName = 'data/grid_log3.vtk'\n",
    "\n",
    "reader = vtk.vtkUnstructuredGridReader()\n",
    "reader.SetFileName(fileName)\n",
    "reader.Update()\n",
    "\n",
    "grid = reader.GetOutput()\n",
    "npoints   = grid.GetNumberOfPoints()   # Number of grid points\n",
    "pointData = grid.GetPointData()        # Data associated with points\n",
    "\n",
    "nArrays = pointData.GetNumberOfArrays()\n",
    "\n",
    "print(npoints)\n",
    "\n",
    "for i in range(nArrays):\n",
    "    array  = pointData.GetArray(i)\n",
    "    name   = array.GetName()\n",
    "    values = vtk_to_numpy(array)\n",
    "    print(name)\n",
    "    print(values)\n",
    "    \n",
    "points = grid.GetPoint(0)\n",
    "print(points)"
   ]
  },
  {
   "cell_type": "markdown",
   "metadata": {},
   "source": [
    "### Reading `.vtu` files"
   ]
  },
  {
   "cell_type": "code",
   "execution_count": 17,
   "metadata": {
    "collapsed": false
   },
   "outputs": [
    {
     "name": "stdout",
     "output_type": "stream",
     "text": [
      "98400\n",
      "(3857124908072960.0, -6.132829156813046e+17, 0.0)\n",
      "8\n",
      "rho\n",
      "[  3.16227800e-24   3.16227800e-24   3.16227800e-24 ...,   3.16227800e-24\n",
      "   3.16227800e-24   3.16227800e-24]\n",
      "7.192042e-18\n",
      "v1\n",
      "[ 0.  0.  0. ...,  0.  0.  0.]\n",
      "3610599.0\n",
      "v2\n",
      "[-7500000. -7500000. -7500000. ..., -7500000. -7500000. -7500000.]\n",
      "1702989.0\n",
      "v3\n",
      "[ 0.  0.  0. ...,  0.  0.  0.]\n",
      "0.0\n",
      "p\n",
      "[  2.60921500e-16   2.60921500e-16   2.60921500e-16 ...,   2.60921500e-16\n",
      "   2.60921500e-16   2.60921500e-16]\n",
      "2.159819e-06\n",
      "rhod\n",
      "[ 0.  0.  0. ...,  0.  0.  0.]\n",
      "1.798011e-20\n",
      "ed\n",
      "[ 0.  0.  0. ...,  0.  0.  0.]\n",
      "1.904177e-09\n",
      "HdT\n",
      "[ 0.  0.  0. ...,  0.  0.  0.]\n",
      "2.691068e-30\n"
     ]
    }
   ],
   "source": [
    "fileName = 'data/Aori_0001.vtu'\n",
    "\n",
    "reader = vtk.vtkXMLUnstructuredGridReader()   # Note the 'XML'\n",
    "reader.SetFileName(fileName)\n",
    "reader.Update()\n",
    "\n",
    "grid = reader.GetOutput()\n",
    "npoints   = grid.GetNumberOfPoints()   # Number of grid points\n",
    "pointData = grid.GetPointData()        # Data associated with points\n",
    "\n",
    "cellData  = grid.GetCellData()\n",
    "\n",
    "# Assuming we are interested in the cell centers\n",
    "cellCentersFilter = vtk.vtkCellCenters()\n",
    "cellCentersFilter.SetInputData(grid)\n",
    "cellCentersFilter.Update()\n",
    "\n",
    "# cellCentersFilter.VertexCellsOn()\n",
    "# cellCentersFilter.Update()\n",
    "\n",
    "ncells = cellCentersFilter.GetOutput().GetNumberOfPoints()\n",
    "print(ncells)\n",
    "\n",
    "print(cellCentersFilter.GetOutput().GetPoint(0))\n",
    "\n",
    "\n",
    "\n",
    "nArrays = cellData.GetNumberOfArrays()\n",
    "print(nArrays)\n",
    "# print(npoints)\n",
    "\n",
    "for i in range(nArrays):\n",
    "    array  = cellData.GetArray(i)\n",
    "    name   = array.GetName()\n",
    "    values = vtk_to_numpy(array)\n",
    "    print(name)\n",
    "    print(values)\n",
    "    print(np.max(values))"
   ]
  },
  {
   "cell_type": "code",
   "execution_count": null,
   "metadata": {
    "collapsed": true
   },
   "outputs": [],
   "source": []
  }
 ],
 "metadata": {
  "kernelspec": {
   "display_name": "Python 3",
   "language": "python",
   "name": "python3"
  },
  "language_info": {
   "codemirror_mode": {
    "name": "ipython",
    "version": 3
   },
   "file_extension": ".py",
   "mimetype": "text/x-python",
   "name": "python",
   "nbconvert_exporter": "python",
   "pygments_lexer": "ipython3",
   "version": "3.6.3"
  }
 },
 "nbformat": 4,
 "nbformat_minor": 2
}
