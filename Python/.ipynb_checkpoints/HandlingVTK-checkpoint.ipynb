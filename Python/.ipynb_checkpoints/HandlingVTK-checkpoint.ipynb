{
 "cells": [
  {
   "cell_type": "markdown",
   "metadata": {},
   "source": [
    "# VTK file handling (in Python)"
   ]
  },
  {
   "cell_type": "code",
   "execution_count": 6,
   "metadata": {
    "collapsed": false,
    "scrolled": true
   },
   "outputs": [],
   "source": [
    "import numpy as np   # NumPy\n",
    "import vtk           # VTK module\n",
    "\n",
    "from vtk.util.numpy_support import vtk_to_numpy   # VTK - NumPy interfacing"
   ]
  },
  {
   "cell_type": "code",
   "execution_count": 7,
   "metadata": {
    "collapsed": false
   },
   "outputs": [
    {
     "name": "stdout",
     "output_type": "stream",
     "text": [
      "1500\n",
      "H2_density\n",
      "[  5.77449296e+11   9.44097133e+11   4.18674995e+09 ...,   1.00000000e-30\n",
      "   1.00000000e-30   1.00000000e-30]\n",
      "velocity\n",
      "[[ 0.38007581 -0.2097981  -0.90084797]\n",
      " [ 0.27525321  0.96136838 -0.00255878]\n",
      " [ 0.73454827  0.66813523  0.1184657 ]\n",
      " ..., \n",
      " [ 0.          0.          0.        ]\n",
      " [ 0.          0.          0.        ]\n",
      " [ 0.          0.          0.        ]]\n"
     ]
    }
   ],
   "source": [
    "fileName = 'data/grid_log3.vtk'\n",
    "\n",
    "reader = vtk.vtkUnstructuredGridReader()\n",
    "reader.SetFileName(fileName)\n",
    "reader.Update()\n",
    "\n",
    "grid = reader.GetOutput()\n",
    "npoints   = grid.GetNumberOfPoints()   # Number of grid points\n",
    "pointData = grid.GetPointData()        # Data associated with points\n",
    "\n",
    "nArrays = pointData.GetNumberOfArrays()\n",
    "\n",
    "print(npoints)\n",
    "\n",
    "for i in range(nArrays):\n",
    "    array  = pointData.GetArray(i)\n",
    "    name   = array.GetName()\n",
    "    values = vtk_to_numpy(array)\n",
    "    print(name)\n",
    "    print(values)"
   ]
  },
  {
   "cell_type": "code",
   "execution_count": null,
   "metadata": {
    "collapsed": true
   },
   "outputs": [],
   "source": []
  }
 ],
 "metadata": {
  "kernelspec": {
   "display_name": "Python 3",
   "language": "python",
   "name": "python3"
  },
  "language_info": {
   "codemirror_mode": {
    "name": "ipython",
    "version": 3
   },
   "file_extension": ".py",
   "mimetype": "text/x-python",
   "name": "python",
   "nbconvert_exporter": "python",
   "pygments_lexer": "ipython3",
   "version": "3.6.3"
  }
 },
 "nbformat": 4,
 "nbformat_minor": 2
}
